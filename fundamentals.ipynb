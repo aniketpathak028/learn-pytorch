{
  "nbformat": 4,
  "nbformat_minor": 0,
  "metadata": {
    "colab": {
      "provenance": [],
      "gpuType": "T4",
      "authorship_tag": "ABX9TyMV7GAwKrEd0xqL/YMON1No",
      "include_colab_link": true
    },
    "kernelspec": {
      "name": "python3",
      "display_name": "Python 3"
    },
    "language_info": {
      "name": "python"
    }
  },
  "cells": [
    {
      "cell_type": "markdown",
      "metadata": {
        "id": "view-in-github",
        "colab_type": "text"
      },
      "source": [
        "<a href=\"https://colab.research.google.com/github/aniketpathak028/learn-pytorch/blob/main/fundamentals.ipynb\" target=\"_parent\"><img src=\"https://colab.research.google.com/assets/colab-badge.svg\" alt=\"Open In Colab\"/></a>"
      ]
    },
    {
      "cell_type": "code",
      "execution_count": 2,
      "metadata": {
        "id": "P05aOAqnognK",
        "colab": {
          "base_uri": "https://localhost:8080/"
        },
        "outputId": "4aff7e38-4904-4159-e855-f35e605b748b"
      },
      "outputs": [
        {
          "output_type": "stream",
          "name": "stdout",
          "text": [
            "2.8.0+cu126\n"
          ]
        }
      ],
      "source": [
        "import torch\n",
        "import numpy as np\n",
        "import pandas as pd\n",
        "import matplotlib.pyplot as plt\n",
        "\n",
        "print(torch.__version__)"
      ]
    },
    {
      "cell_type": "code",
      "source": [
        "! nvidia-smi # to check gpu config"
      ],
      "metadata": {
        "colab": {
          "base_uri": "https://localhost:8080/"
        },
        "id": "tyQ7dA4jcYNT",
        "outputId": "160c13bf-f254-4d66-bba5-ca07ec207992"
      },
      "execution_count": 3,
      "outputs": [
        {
          "output_type": "stream",
          "name": "stdout",
          "text": [
            "/bin/bash: line 1: nvidia-smi: command not found\n"
          ]
        }
      ]
    },
    {
      "cell_type": "markdown",
      "source": [
        "## Introduction to Tensors\n",
        "\n",
        "### Creating tensors\n",
        "\n",
        "tensors created using torch.Tensor() = https://docs.pytorch.org/docs/stable/tensors.html"
      ],
      "metadata": {
        "id": "d0c_k8hdeWZy"
      }
    },
    {
      "cell_type": "code",
      "source": [
        "# scalar\n",
        "scalar = torch.tensor(8)\n",
        "scalar"
      ],
      "metadata": {
        "colab": {
          "base_uri": "https://localhost:8080/"
        },
        "id": "ceUjxQhdeOLf",
        "outputId": "89f044c4-8f27-416f-8466-a14c4e14a185"
      },
      "execution_count": 4,
      "outputs": [
        {
          "output_type": "execute_result",
          "data": {
            "text/plain": [
              "tensor(8)"
            ]
          },
          "metadata": {},
          "execution_count": 4
        }
      ]
    },
    {
      "cell_type": "code",
      "source": [
        "scalar.ndim"
      ],
      "metadata": {
        "colab": {
          "base_uri": "https://localhost:8080/"
        },
        "id": "G5dsq_XZ6zfz",
        "outputId": "284a6e64-6a7d-408f-a08b-f43d926a9229"
      },
      "execution_count": 5,
      "outputs": [
        {
          "output_type": "execute_result",
          "data": {
            "text/plain": [
              "0"
            ]
          },
          "metadata": {},
          "execution_count": 5
        }
      ]
    },
    {
      "cell_type": "code",
      "source": [
        "# get tensor back as python int\n",
        "scalar.item()"
      ],
      "metadata": {
        "colab": {
          "base_uri": "https://localhost:8080/"
        },
        "id": "SltxHaZD66Bb",
        "outputId": "67aabe65-2b3a-43e1-cda0-268c44d62e3a"
      },
      "execution_count": 6,
      "outputs": [
        {
          "output_type": "execute_result",
          "data": {
            "text/plain": [
              "8"
            ]
          },
          "metadata": {},
          "execution_count": 6
        }
      ]
    },
    {
      "cell_type": "code",
      "source": [
        "# vector\n",
        "vector = torch.tensor([7,7])\n",
        "vector"
      ],
      "metadata": {
        "colab": {
          "base_uri": "https://localhost:8080/"
        },
        "id": "Ih5j4CuL7DUa",
        "outputId": "ae5f5b77-48a8-4b00-ea80-a896ca99dc8f"
      },
      "execution_count": 7,
      "outputs": [
        {
          "output_type": "execute_result",
          "data": {
            "text/plain": [
              "tensor([7, 7])"
            ]
          },
          "metadata": {},
          "execution_count": 7
        }
      ]
    },
    {
      "cell_type": "code",
      "source": [
        "vector.ndim"
      ],
      "metadata": {
        "colab": {
          "base_uri": "https://localhost:8080/"
        },
        "id": "H9a0eA4K7Kqj",
        "outputId": "0d34abd4-275c-4251-db81-2f7d34f40a2a"
      },
      "execution_count": 8,
      "outputs": [
        {
          "output_type": "execute_result",
          "data": {
            "text/plain": [
              "1"
            ]
          },
          "metadata": {},
          "execution_count": 8
        }
      ]
    },
    {
      "cell_type": "code",
      "source": [
        "vector.shape"
      ],
      "metadata": {
        "colab": {
          "base_uri": "https://localhost:8080/"
        },
        "id": "VVp5dOuP7Qbj",
        "outputId": "7922f8a6-2d14-43cf-f96e-838ac972734f"
      },
      "execution_count": 9,
      "outputs": [
        {
          "output_type": "execute_result",
          "data": {
            "text/plain": [
              "torch.Size([2])"
            ]
          },
          "metadata": {},
          "execution_count": 9
        }
      ]
    },
    {
      "cell_type": "code",
      "source": [
        "# MATRIX\n",
        "MATRIX = torch.tensor([[7, 8],\n",
        "                       [9,8]])\n",
        "MATRIX"
      ],
      "metadata": {
        "id": "xqcrFzK17URn",
        "colab": {
          "base_uri": "https://localhost:8080/"
        },
        "outputId": "df4aa553-0cb5-47da-e5f1-b30259c8d9e9"
      },
      "execution_count": 10,
      "outputs": [
        {
          "output_type": "execute_result",
          "data": {
            "text/plain": [
              "tensor([[7, 8],\n",
              "        [9, 8]])"
            ]
          },
          "metadata": {},
          "execution_count": 10
        }
      ]
    },
    {
      "cell_type": "code",
      "source": [
        "MATRIX.ndim"
      ],
      "metadata": {
        "colab": {
          "base_uri": "https://localhost:8080/"
        },
        "id": "TCp83d_xi27p",
        "outputId": "97ed790a-8498-4352-f6f6-f8c2acbfc4a6"
      },
      "execution_count": 11,
      "outputs": [
        {
          "output_type": "execute_result",
          "data": {
            "text/plain": [
              "2"
            ]
          },
          "metadata": {},
          "execution_count": 11
        }
      ]
    },
    {
      "cell_type": "code",
      "source": [
        "MATRIX[1]"
      ],
      "metadata": {
        "colab": {
          "base_uri": "https://localhost:8080/"
        },
        "id": "zFNjE4cAjZ0V",
        "outputId": "5c7567cc-e6cf-47a0-b6e6-811fca053970"
      },
      "execution_count": 12,
      "outputs": [
        {
          "output_type": "execute_result",
          "data": {
            "text/plain": [
              "tensor([9, 8])"
            ]
          },
          "metadata": {},
          "execution_count": 12
        }
      ]
    },
    {
      "cell_type": "code",
      "source": [
        "MATRIX.shape"
      ],
      "metadata": {
        "colab": {
          "base_uri": "https://localhost:8080/"
        },
        "id": "dngVBy2DjcD8",
        "outputId": "182131b9-9a20-4ebe-ab2f-f3ff0a1fcdfd"
      },
      "execution_count": 13,
      "outputs": [
        {
          "output_type": "execute_result",
          "data": {
            "text/plain": [
              "torch.Size([2, 2])"
            ]
          },
          "metadata": {},
          "execution_count": 13
        }
      ]
    },
    {
      "cell_type": "code",
      "source": [
        "# TENSOR\n",
        "TENSOR = torch.tensor([[[1, 2, 3],\n",
        "                        [3, 6, 9],\n",
        "                        [2, 4, 5]]])\n",
        "TENSOR"
      ],
      "metadata": {
        "colab": {
          "base_uri": "https://localhost:8080/"
        },
        "id": "jyrGrKqljfY4",
        "outputId": "976d1e31-c30d-465f-c33a-0ebe0e7914d7"
      },
      "execution_count": 14,
      "outputs": [
        {
          "output_type": "execute_result",
          "data": {
            "text/plain": [
              "tensor([[[1, 2, 3],\n",
              "         [3, 6, 9],\n",
              "         [2, 4, 5]]])"
            ]
          },
          "metadata": {},
          "execution_count": 14
        }
      ]
    },
    {
      "cell_type": "code",
      "source": [
        "TENSOR.ndim"
      ],
      "metadata": {
        "colab": {
          "base_uri": "https://localhost:8080/"
        },
        "id": "rscP4wrskueC",
        "outputId": "ac5b7bcb-0440-44c6-8396-48c55270406b"
      },
      "execution_count": 15,
      "outputs": [
        {
          "output_type": "execute_result",
          "data": {
            "text/plain": [
              "3"
            ]
          },
          "metadata": {},
          "execution_count": 15
        }
      ]
    },
    {
      "cell_type": "code",
      "source": [
        "TENSOR.shape # shape is the count of elements in each dimention"
      ],
      "metadata": {
        "colab": {
          "base_uri": "https://localhost:8080/"
        },
        "id": "S0TBKHJnk1vU",
        "outputId": "e052aa7d-5964-4687-db1a-8357b33feb0f"
      },
      "execution_count": 16,
      "outputs": [
        {
          "output_type": "execute_result",
          "data": {
            "text/plain": [
              "torch.Size([1, 3, 3])"
            ]
          },
          "metadata": {},
          "execution_count": 16
        }
      ]
    },
    {
      "cell_type": "code",
      "source": [
        "print(TENSOR.size()) # alias for shape"
      ],
      "metadata": {
        "colab": {
          "base_uri": "https://localhost:8080/"
        },
        "id": "OVV4pWb1k33T",
        "outputId": "0de94f72-2f9c-416f-cd5f-1aee48f5cb5c"
      },
      "execution_count": 17,
      "outputs": [
        {
          "output_type": "stream",
          "name": "stdout",
          "text": [
            "torch.Size([1, 3, 3])\n"
          ]
        }
      ]
    },
    {
      "cell_type": "code",
      "source": [
        "TENSOR[0]"
      ],
      "metadata": {
        "colab": {
          "base_uri": "https://localhost:8080/"
        },
        "id": "R_q_f3mPlMtp",
        "outputId": "b8cbf337-03b4-4a93-dda3-fe39e368861f"
      },
      "execution_count": 18,
      "outputs": [
        {
          "output_type": "execute_result",
          "data": {
            "text/plain": [
              "tensor([[1, 2, 3],\n",
              "        [3, 6, 9],\n",
              "        [2, 4, 5]])"
            ]
          },
          "metadata": {},
          "execution_count": 18
        }
      ]
    },
    {
      "cell_type": "code",
      "source": [
        "TENSOR[0][1]"
      ],
      "metadata": {
        "colab": {
          "base_uri": "https://localhost:8080/"
        },
        "id": "iNS4aPZXGP1m",
        "outputId": "21733449-330f-4735-97f0-9be3a5720c8e"
      },
      "execution_count": 19,
      "outputs": [
        {
          "output_type": "execute_result",
          "data": {
            "text/plain": [
              "tensor([3, 6, 9])"
            ]
          },
          "metadata": {},
          "execution_count": 19
        }
      ]
    },
    {
      "cell_type": "code",
      "source": [
        "TENSOR2 = torch.tensor([[[0, 1, 8], [1, 3, 4], [4, 5, 6], [3, 2, 1]],\n",
        "           [[2, 1, 3], [5, 1, 9], [0, 5, 6], [5, 2, 1]],\n",
        "           [[5, 1, 4], [5, 4, 9], [0, 9, 6], [1, 2, 8]]])"
      ],
      "metadata": {
        "id": "OQldxJ72GbiO"
      },
      "execution_count": 20,
      "outputs": []
    },
    {
      "cell_type": "code",
      "source": [
        "TENSOR2.ndim"
      ],
      "metadata": {
        "colab": {
          "base_uri": "https://localhost:8080/"
        },
        "id": "wx1uK5yaHEPs",
        "outputId": "a259f95c-84ee-4e67-aae5-e2de88d51c0a"
      },
      "execution_count": 21,
      "outputs": [
        {
          "output_type": "execute_result",
          "data": {
            "text/plain": [
              "3"
            ]
          },
          "metadata": {},
          "execution_count": 21
        }
      ]
    },
    {
      "cell_type": "markdown",
      "source": [
        "### Note:\n",
        "##### usually scalars and vectors are represented in lower case and matrix and tensors are represented in upper case"
      ],
      "metadata": {
        "id": "m7NM0W8cH6ki"
      }
    },
    {
      "cell_type": "code",
      "source": [
        "TENSOR2.shape"
      ],
      "metadata": {
        "colab": {
          "base_uri": "https://localhost:8080/"
        },
        "id": "qvMCfHr_HHSz",
        "outputId": "85489185-e21b-47b0-89f0-3056bca3d3d8"
      },
      "execution_count": 22,
      "outputs": [
        {
          "output_type": "execute_result",
          "data": {
            "text/plain": [
              "torch.Size([3, 4, 3])"
            ]
          },
          "metadata": {},
          "execution_count": 22
        }
      ]
    },
    {
      "cell_type": "markdown",
      "source": [
        "### Random Tensors\n",
        "\n",
        "Why random tensors?\n",
        "\n",
        "Random tensors are important because the way many neural networks learn is that they start with tensors full of random numbers and then adjust those random numbers to better represent the data.\n",
        "\n",
        "``` start with random numbers -> look at data -> update random numbers -> look at data -> update random numbers ```"
      ],
      "metadata": {
        "id": "a6d9hKJBqf7j"
      }
    },
    {
      "cell_type": "code",
      "source": [
        "# Create a random tensor of size (3,4)\n",
        "\n",
        "random_tensor = torch.rand(3,4)\n",
        "random_tensor"
      ],
      "metadata": {
        "colab": {
          "base_uri": "https://localhost:8080/"
        },
        "id": "B_F1WTssqecI",
        "outputId": "1d0af06b-67e8-4e98-8913-d171a73caa10"
      },
      "execution_count": 23,
      "outputs": [
        {
          "output_type": "execute_result",
          "data": {
            "text/plain": [
              "tensor([[0.2338, 0.3594, 0.7914, 0.4280],\n",
              "        [0.9675, 0.9479, 0.5638, 0.4924],\n",
              "        [0.5771, 0.5561, 0.4521, 0.2307]])"
            ]
          },
          "metadata": {},
          "execution_count": 23
        }
      ]
    },
    {
      "cell_type": "code",
      "source": [
        "random_tensor.ndim"
      ],
      "metadata": {
        "colab": {
          "base_uri": "https://localhost:8080/"
        },
        "id": "RlKtZ6jpsgyq",
        "outputId": "9806b105-63e0-44a9-90b3-bd23348f140a"
      },
      "execution_count": 24,
      "outputs": [
        {
          "output_type": "execute_result",
          "data": {
            "text/plain": [
              "2"
            ]
          },
          "metadata": {},
          "execution_count": 24
        }
      ]
    },
    {
      "cell_type": "code",
      "source": [
        "random_tensor1= torch.rand(10, 10, 10)\n",
        "random_tensor1"
      ],
      "metadata": {
        "id": "-IFlugHmsjvh",
        "colab": {
          "base_uri": "https://localhost:8080/"
        },
        "outputId": "7c3a9d6e-74c0-4813-b487-ca788756c10c"
      },
      "execution_count": 25,
      "outputs": [
        {
          "output_type": "execute_result",
          "data": {
            "text/plain": [
              "tensor([[[9.2951e-01, 1.6100e-01, 7.9524e-01, 7.2021e-01, 8.5097e-01,\n",
              "          7.2453e-01, 4.2215e-01, 3.8382e-01, 4.4708e-02, 9.8922e-01],\n",
              "         [4.0121e-01, 8.7117e-01, 5.9975e-01, 5.7760e-01, 7.3492e-01,\n",
              "          5.1293e-01, 3.4154e-01, 2.6319e-01, 9.8436e-01, 7.8950e-01],\n",
              "         [6.3378e-01, 2.4221e-02, 7.0648e-01, 6.1907e-02, 7.3938e-01,\n",
              "          3.4712e-01, 8.1231e-01, 2.7378e-01, 3.8805e-02, 1.1581e-01],\n",
              "         [8.1213e-01, 3.4334e-01, 8.4349e-01, 8.9488e-01, 1.7300e-02,\n",
              "          8.5124e-01, 2.6171e-01, 4.5296e-01, 6.7391e-02, 9.1391e-01],\n",
              "         [4.8567e-01, 7.7245e-01, 4.8687e-01, 6.6850e-01, 3.0598e-01,\n",
              "          2.7854e-02, 9.0796e-01, 7.6909e-02, 6.3054e-02, 6.8582e-01],\n",
              "         [2.7818e-01, 8.3034e-01, 9.5336e-01, 2.2036e-01, 7.8919e-01,\n",
              "          5.3810e-01, 6.9914e-01, 9.6194e-01, 9.7611e-01, 5.5633e-02],\n",
              "         [7.5869e-01, 4.5619e-01, 9.1405e-01, 5.2611e-01, 5.4119e-01,\n",
              "          1.5751e-02, 8.2865e-01, 7.8974e-01, 6.5388e-01, 1.7802e-01],\n",
              "         [8.6827e-01, 7.9856e-01, 9.3295e-01, 9.7228e-01, 9.3580e-01,\n",
              "          1.7254e-02, 8.1699e-02, 7.7324e-01, 5.8130e-01, 9.9485e-01],\n",
              "         [2.9833e-01, 7.4697e-01, 9.7004e-01, 6.1209e-02, 3.6148e-01,\n",
              "          9.4982e-01, 4.4722e-01, 6.3574e-02, 7.3051e-01, 9.2601e-01],\n",
              "         [6.0092e-01, 1.5918e-01, 7.4962e-01, 6.9549e-01, 4.6112e-01,\n",
              "          1.2184e-02, 8.7425e-01, 3.0089e-02, 3.3389e-01, 4.7364e-01]],\n",
              "\n",
              "        [[3.5863e-02, 9.7305e-02, 2.3741e-01, 5.8758e-01, 5.3303e-01,\n",
              "          7.8760e-01, 6.0128e-01, 4.3949e-02, 4.0500e-02, 2.7782e-01],\n",
              "         [7.6577e-01, 2.8772e-01, 5.6508e-01, 4.6765e-01, 2.5127e-01,\n",
              "          2.4349e-01, 4.9162e-01, 6.2108e-01, 8.4437e-01, 8.6422e-02],\n",
              "         [6.2552e-01, 5.8120e-01, 4.7352e-01, 8.2776e-01, 9.2968e-01,\n",
              "          7.0787e-01, 4.9410e-01, 8.2987e-01, 8.1170e-01, 6.9298e-01],\n",
              "         [5.3150e-01, 9.5136e-01, 7.6196e-01, 1.8273e-01, 6.7798e-01,\n",
              "          7.5049e-01, 3.4683e-01, 7.3964e-01, 7.5232e-01, 4.8641e-01],\n",
              "         [1.2855e-01, 3.2715e-01, 2.2324e-01, 3.1600e-01, 9.8704e-01,\n",
              "          8.4088e-01, 9.9532e-01, 3.3272e-01, 1.5131e-01, 2.3106e-01],\n",
              "         [1.1109e-01, 2.8296e-01, 7.4921e-02, 8.2736e-01, 7.9311e-01,\n",
              "          3.4563e-01, 7.0695e-01, 3.3178e-01, 2.2539e-01, 9.2390e-03],\n",
              "         [4.6062e-01, 9.7917e-01, 2.8827e-01, 7.6748e-01, 4.0615e-01,\n",
              "          2.4152e-01, 9.0117e-01, 1.7923e-01, 8.7689e-01, 2.7209e-01],\n",
              "         [4.5226e-01, 5.9147e-01, 9.1673e-01, 3.2908e-01, 4.4240e-01,\n",
              "          8.1150e-01, 2.2506e-03, 2.7132e-01, 8.7142e-01, 6.9141e-01],\n",
              "         [4.9468e-01, 3.9349e-01, 3.6518e-01, 9.4323e-01, 9.9194e-01,\n",
              "          2.6194e-01, 4.9120e-01, 1.2847e-01, 9.1969e-01, 2.9907e-03],\n",
              "         [4.1094e-01, 2.5441e-01, 3.6530e-01, 8.9496e-01, 8.0117e-01,\n",
              "          2.9675e-01, 3.3194e-01, 1.9703e-01, 4.8026e-01, 8.3399e-01]],\n",
              "\n",
              "        [[4.8878e-01, 7.3278e-02, 1.2722e-01, 7.6799e-01, 5.9364e-01,\n",
              "          8.5660e-01, 2.0304e-01, 5.2825e-01, 9.3586e-01, 7.5685e-01],\n",
              "         [7.7069e-01, 8.0145e-01, 9.1810e-01, 3.0577e-01, 4.2165e-01,\n",
              "          4.6806e-01, 8.2315e-01, 1.6583e-01, 4.0681e-01, 2.8383e-01],\n",
              "         [9.6447e-02, 4.0605e-01, 6.8282e-01, 3.3784e-01, 2.3764e-01,\n",
              "          4.6795e-01, 6.0991e-01, 3.1762e-01, 3.5420e-01, 2.8529e-03],\n",
              "         [6.5847e-02, 4.6443e-01, 4.1012e-01, 6.0809e-01, 9.3021e-01,\n",
              "          7.6908e-01, 9.9610e-01, 2.6204e-01, 1.4460e-01, 6.5605e-01],\n",
              "         [6.0558e-01, 7.6705e-01, 7.0935e-01, 7.1984e-01, 6.2917e-01,\n",
              "          7.8494e-01, 1.1588e-02, 5.5060e-02, 9.9483e-01, 2.2850e-02],\n",
              "         [5.9224e-01, 1.6248e-01, 8.2340e-01, 7.1532e-01, 8.5212e-02,\n",
              "          6.3096e-01, 9.2449e-01, 8.7537e-01, 8.7672e-01, 3.0228e-01],\n",
              "         [3.8412e-01, 7.6083e-01, 6.2484e-01, 4.8229e-01, 1.4361e-01,\n",
              "          6.7136e-02, 7.2358e-01, 5.4019e-01, 8.8183e-01, 5.4698e-01],\n",
              "         [2.2652e-01, 2.0753e-01, 7.6197e-01, 6.7239e-01, 6.7784e-01,\n",
              "          3.0232e-01, 7.5249e-01, 5.3369e-01, 9.0968e-01, 3.2357e-01],\n",
              "         [3.0028e-01, 5.3976e-01, 1.8866e-01, 1.0445e-01, 9.5230e-02,\n",
              "          5.7296e-01, 6.7470e-01, 8.3886e-01, 6.3187e-01, 5.2105e-01],\n",
              "         [9.4211e-01, 3.8962e-01, 3.7700e-02, 9.9687e-01, 1.7493e-02,\n",
              "          7.1572e-01, 7.4314e-02, 8.9634e-01, 9.8034e-01, 6.3011e-02]],\n",
              "\n",
              "        [[3.4958e-01, 8.4911e-01, 5.3502e-01, 5.2513e-01, 6.5996e-01,\n",
              "          4.1087e-01, 7.3433e-02, 8.1353e-01, 7.1955e-01, 7.9154e-01],\n",
              "         [3.3416e-01, 1.9272e-01, 1.5434e-02, 7.2424e-01, 1.0588e-01,\n",
              "          4.0653e-01, 6.0821e-01, 6.5443e-01, 6.9488e-01, 3.1756e-01],\n",
              "         [5.8782e-01, 8.4970e-01, 5.8181e-01, 9.3546e-01, 4.1546e-01,\n",
              "          6.7163e-01, 7.8867e-01, 3.3027e-01, 9.1188e-01, 6.2953e-01],\n",
              "         [6.4995e-01, 8.4129e-01, 2.1675e-02, 1.7377e-01, 3.9123e-01,\n",
              "          2.5399e-01, 2.5768e-01, 7.6519e-01, 2.9255e-01, 9.7237e-01],\n",
              "         [1.0442e-01, 8.4507e-01, 6.6513e-01, 2.8404e-02, 3.2984e-01,\n",
              "          2.7844e-01, 9.7295e-01, 1.4953e-01, 9.0902e-01, 3.9371e-01],\n",
              "         [9.6315e-01, 4.1117e-02, 1.2991e-01, 6.1082e-01, 3.9489e-02,\n",
              "          4.1980e-01, 1.3713e-01, 6.7098e-01, 6.4238e-01, 5.5758e-01],\n",
              "         [1.9174e-01, 3.3848e-01, 4.5960e-01, 8.5700e-01, 4.0480e-01,\n",
              "          2.8358e-01, 2.4649e-01, 3.9433e-01, 5.0879e-01, 1.5003e-01],\n",
              "         [5.5793e-01, 5.3325e-01, 4.1956e-01, 5.4038e-01, 5.5336e-01,\n",
              "          6.6813e-01, 5.4763e-01, 8.5910e-01, 1.9358e-01, 5.1776e-01],\n",
              "         [2.7155e-01, 7.9110e-01, 4.1384e-01, 7.7062e-01, 1.8088e-01,\n",
              "          5.7411e-01, 8.5953e-01, 1.6346e-01, 6.9289e-01, 1.5518e-01],\n",
              "         [9.4050e-01, 2.5236e-01, 3.0024e-01, 3.4244e-01, 4.3374e-01,\n",
              "          9.6341e-01, 3.8089e-01, 1.7918e-01, 7.9520e-01, 4.0061e-01]],\n",
              "\n",
              "        [[2.8272e-01, 8.1224e-01, 9.3403e-01, 3.3396e-01, 8.0296e-02,\n",
              "          6.9983e-01, 2.4709e-01, 7.2728e-01, 4.7328e-01, 1.4352e-01],\n",
              "         [1.6499e-01, 4.7252e-01, 7.9889e-01, 6.2380e-01, 3.6545e-01,\n",
              "          6.5237e-01, 6.5835e-01, 2.9804e-01, 3.3630e-01, 2.1710e-01],\n",
              "         [2.9933e-01, 7.3535e-02, 7.7008e-01, 1.8272e-01, 8.0118e-01,\n",
              "          6.8468e-01, 2.8012e-01, 9.3011e-02, 7.7126e-01, 4.3659e-01],\n",
              "         [2.8060e-01, 8.8205e-01, 8.2135e-01, 7.7081e-01, 6.2197e-01,\n",
              "          2.7376e-01, 1.1289e-01, 8.7365e-01, 5.3835e-01, 5.3535e-01],\n",
              "         [8.1686e-01, 1.8411e-01, 4.1534e-02, 7.6858e-01, 9.8960e-01,\n",
              "          2.1263e-01, 6.2231e-01, 8.7563e-01, 2.6103e-01, 5.3428e-01],\n",
              "         [8.2994e-02, 9.2216e-01, 7.1637e-01, 6.7020e-01, 8.8099e-01,\n",
              "          5.4507e-01, 4.0602e-01, 9.7514e-01, 5.8812e-01, 2.0704e-01],\n",
              "         [3.2228e-01, 7.1779e-01, 3.9923e-01, 9.2381e-01, 5.1943e-01,\n",
              "          9.9479e-01, 5.6060e-01, 8.3395e-01, 5.4822e-01, 7.8810e-01],\n",
              "         [6.9661e-01, 2.2925e-01, 5.0647e-01, 2.5841e-01, 3.4132e-01,\n",
              "          5.5698e-01, 6.3544e-02, 1.6293e-01, 7.1794e-01, 2.0879e-01],\n",
              "         [8.1589e-01, 9.5900e-01, 8.6672e-01, 8.1644e-01, 4.4802e-01,\n",
              "          5.0984e-01, 5.0130e-01, 1.7178e-01, 7.1783e-01, 5.4493e-01],\n",
              "         [9.4271e-01, 4.2865e-01, 8.6743e-02, 9.7306e-01, 1.4381e-01,\n",
              "          2.2859e-01, 5.3206e-01, 8.7843e-01, 9.9850e-01, 8.4304e-03]],\n",
              "\n",
              "        [[7.0309e-02, 8.7828e-01, 6.9667e-01, 8.8074e-01, 6.3221e-02,\n",
              "          1.3925e-01, 5.8065e-01, 9.6796e-01, 9.8527e-01, 1.3765e-01],\n",
              "         [8.3908e-01, 4.2756e-01, 7.0023e-01, 2.7855e-01, 2.8908e-01,\n",
              "          2.2676e-01, 8.9376e-01, 2.4560e-01, 5.0451e-01, 2.7776e-01],\n",
              "         [7.6344e-01, 9.6864e-02, 6.0029e-01, 7.4138e-01, 6.6890e-01,\n",
              "          5.9094e-01, 4.7860e-01, 9.5375e-01, 4.8067e-02, 6.4307e-02],\n",
              "         [5.3564e-03, 1.2452e-01, 7.0452e-01, 8.5603e-01, 7.4631e-01,\n",
              "          7.8837e-01, 6.2628e-01, 4.4035e-01, 6.8307e-02, 8.8019e-01],\n",
              "         [2.0777e-01, 5.2638e-01, 8.9146e-01, 8.0416e-01, 7.5142e-01,\n",
              "          1.3369e-01, 2.2964e-02, 1.5504e-02, 5.4528e-01, 3.5943e-01],\n",
              "         [4.5072e-01, 1.4104e-01, 3.8495e-02, 2.2866e-01, 2.7910e-01,\n",
              "          5.0435e-01, 7.2481e-01, 2.8508e-01, 7.0930e-01, 4.1851e-01],\n",
              "         [8.0347e-01, 9.7652e-01, 1.2968e-01, 6.1716e-01, 4.1458e-01,\n",
              "          7.6901e-01, 6.9225e-01, 2.9985e-01, 2.4933e-01, 4.8498e-01],\n",
              "         [5.1804e-01, 2.1560e-01, 1.6743e-01, 3.8367e-01, 3.8153e-01,\n",
              "          4.6205e-01, 6.2825e-01, 4.0684e-01, 1.0895e-01, 4.1452e-01],\n",
              "         [5.6481e-01, 1.8458e-01, 2.5388e-02, 3.9632e-01, 2.2727e-01,\n",
              "          1.0066e-01, 8.7077e-01, 6.9859e-01, 9.7795e-01, 8.3372e-01],\n",
              "         [1.1408e-01, 6.3838e-01, 6.4127e-01, 5.4149e-01, 3.0731e-01,\n",
              "          7.1468e-01, 3.7160e-01, 4.1002e-01, 1.2109e-01, 7.2868e-01]],\n",
              "\n",
              "        [[6.7518e-01, 5.6579e-02, 5.1648e-01, 1.3895e-01, 8.8596e-01,\n",
              "          1.2790e-01, 4.4125e-01, 9.1343e-01, 4.6366e-03, 8.5154e-01],\n",
              "         [4.9590e-01, 4.8716e-01, 8.1013e-01, 3.5235e-01, 6.4428e-02,\n",
              "          8.6349e-01, 2.1114e-02, 9.8353e-01, 5.7114e-01, 9.9651e-01],\n",
              "         [2.7826e-01, 4.1647e-01, 7.4454e-01, 7.9224e-01, 1.0785e-01,\n",
              "          9.6777e-02, 8.1584e-01, 4.2776e-01, 1.6595e-01, 7.9255e-01],\n",
              "         [9.1732e-01, 5.1465e-01, 1.2279e-01, 8.2973e-01, 5.6641e-01,\n",
              "          8.4075e-01, 5.9901e-01, 8.9395e-01, 9.8765e-01, 3.9373e-01],\n",
              "         [1.9011e-01, 9.2351e-01, 9.5637e-01, 1.8166e-01, 2.2494e-02,\n",
              "          9.2782e-01, 4.9117e-01, 2.5932e-01, 8.3969e-01, 8.1883e-02],\n",
              "         [7.3823e-01, 7.6049e-01, 8.7793e-01, 3.3609e-01, 1.8070e-01,\n",
              "          2.5043e-01, 9.1659e-01, 4.8735e-01, 7.2162e-02, 9.0693e-01],\n",
              "         [9.0555e-01, 7.0987e-01, 9.8476e-01, 9.0650e-01, 2.3776e-01,\n",
              "          1.1818e-01, 7.4148e-01, 8.7282e-01, 7.6911e-01, 7.6345e-01],\n",
              "         [1.4763e-03, 5.5873e-01, 3.3005e-01, 9.2827e-01, 7.7945e-01,\n",
              "          5.2260e-01, 2.7422e-01, 3.7555e-01, 8.4994e-01, 9.5069e-01],\n",
              "         [5.7446e-01, 7.5751e-01, 8.2169e-02, 5.0884e-01, 2.6990e-01,\n",
              "          6.2819e-01, 2.5062e-01, 9.6834e-01, 5.6738e-03, 3.7313e-01],\n",
              "         [6.0743e-01, 2.2994e-02, 6.5179e-02, 2.5707e-01, 2.8074e-01,\n",
              "          4.8820e-01, 4.1123e-01, 8.4624e-01, 2.8746e-01, 8.3912e-01]],\n",
              "\n",
              "        [[2.5127e-02, 6.3484e-01, 3.4877e-01, 4.7632e-01, 3.1241e-01,\n",
              "          3.8029e-01, 2.2867e-01, 7.6722e-01, 8.2685e-01, 3.2978e-01],\n",
              "         [1.1291e-01, 2.0496e-01, 9.4065e-01, 6.0071e-01, 5.0437e-01,\n",
              "          3.4484e-01, 7.7521e-01, 3.0265e-01, 9.8704e-01, 1.6660e-01],\n",
              "         [1.0820e-01, 2.6358e-01, 1.3123e-01, 7.8852e-01, 5.2084e-01,\n",
              "          9.2048e-01, 6.0396e-01, 1.1007e-01, 5.5760e-02, 4.8667e-01],\n",
              "         [3.1693e-02, 9.5663e-01, 4.7998e-01, 6.5564e-01, 8.2232e-01,\n",
              "          5.2474e-01, 1.8363e-01, 5.5967e-01, 5.6823e-01, 3.2477e-03],\n",
              "         [4.1371e-01, 5.2062e-01, 5.2472e-01, 5.1008e-01, 8.6466e-01,\n",
              "          2.1398e-01, 4.8154e-01, 1.8264e-01, 9.2534e-01, 8.1199e-01],\n",
              "         [5.4396e-01, 1.4926e-01, 1.6439e-01, 5.1358e-01, 8.4721e-01,\n",
              "          9.3663e-01, 6.8332e-01, 2.7251e-01, 6.9995e-01, 3.9849e-01],\n",
              "         [1.3524e-01, 9.2905e-01, 5.0814e-02, 4.7184e-01, 5.2859e-01,\n",
              "          8.0616e-01, 2.2711e-01, 5.5105e-01, 9.7097e-01, 5.3062e-01],\n",
              "         [9.2304e-01, 5.6976e-01, 9.6863e-01, 6.9295e-01, 9.8813e-01,\n",
              "          2.1686e-01, 6.1180e-01, 4.7933e-03, 9.6164e-01, 1.5866e-02],\n",
              "         [4.8371e-02, 3.8863e-01, 6.8431e-01, 5.3938e-01, 9.0321e-01,\n",
              "          7.2022e-01, 5.4741e-01, 7.9146e-01, 1.9546e-01, 4.5316e-01],\n",
              "         [6.9694e-01, 9.8219e-01, 2.3771e-01, 1.0499e-01, 4.4610e-01,\n",
              "          7.3869e-01, 1.4277e-01, 4.4314e-01, 8.7477e-01, 3.1227e-01]],\n",
              "\n",
              "        [[3.2287e-01, 6.0670e-01, 6.9537e-01, 4.0187e-01, 7.0290e-01,\n",
              "          8.8817e-01, 3.8350e-01, 7.0359e-01, 7.6849e-01, 2.3343e-01],\n",
              "         [6.3975e-01, 7.7962e-01, 7.0499e-01, 8.8483e-01, 4.4200e-01,\n",
              "          6.1953e-01, 6.9755e-01, 6.9527e-01, 2.8081e-01, 3.9989e-01],\n",
              "         [6.9935e-01, 9.8954e-01, 1.6025e-01, 6.2518e-01, 7.0585e-01,\n",
              "          1.9699e-01, 7.9922e-01, 8.4672e-01, 6.2505e-01, 2.6329e-01],\n",
              "         [6.6150e-01, 8.4962e-02, 9.4604e-01, 7.8078e-01, 2.9748e-01,\n",
              "          9.8573e-01, 2.5388e-01, 4.4144e-01, 6.7483e-01, 1.8736e-01],\n",
              "         [7.9171e-01, 5.1809e-01, 9.9665e-01, 9.7646e-01, 2.1493e-01,\n",
              "          8.0912e-01, 6.6248e-01, 2.9699e-01, 6.2373e-01, 7.9502e-01],\n",
              "         [2.2337e-02, 4.6191e-01, 7.8203e-01, 5.1897e-01, 3.7034e-01,\n",
              "          6.1678e-01, 6.0424e-01, 7.8978e-02, 6.0909e-01, 5.5223e-01],\n",
              "         [9.7275e-01, 1.5518e-01, 1.4214e-01, 9.8777e-01, 4.7734e-01,\n",
              "          7.0320e-01, 1.3171e-01, 1.1178e-01, 2.6459e-01, 1.1130e-01],\n",
              "         [4.6844e-01, 3.4064e-01, 2.5478e-01, 4.0564e-01, 9.6760e-01,\n",
              "          3.8138e-01, 4.0902e-01, 2.9004e-01, 2.7991e-01, 8.2480e-01],\n",
              "         [8.2180e-01, 2.2796e-01, 4.4427e-01, 5.4044e-01, 7.5499e-01,\n",
              "          1.7983e-01, 2.1629e-01, 3.3947e-01, 2.5774e-03, 5.5074e-01],\n",
              "         [8.4193e-01, 9.6987e-01, 3.7464e-01, 6.3110e-01, 8.0870e-01,\n",
              "          3.2860e-01, 4.6964e-01, 4.3888e-01, 1.8437e-01, 2.5470e-02]],\n",
              "\n",
              "        [[2.7537e-01, 7.3993e-01, 6.4842e-01, 5.3123e-01, 2.2488e-01,\n",
              "          4.7120e-01, 7.0309e-02, 2.7495e-01, 9.9836e-01, 4.0993e-01],\n",
              "         [5.0728e-01, 1.3338e-01, 5.3518e-01, 7.2313e-01, 1.6706e-01,\n",
              "          1.0890e-01, 9.7023e-01, 1.8158e-01, 2.5654e-02, 2.0761e-01],\n",
              "         [8.0472e-02, 6.6250e-01, 3.4697e-01, 8.4842e-01, 3.4826e-01,\n",
              "          3.2530e-01, 5.7943e-01, 1.5305e-01, 2.7475e-01, 3.3466e-01],\n",
              "         [8.5164e-01, 9.0937e-01, 4.9574e-01, 8.4622e-01, 9.4762e-01,\n",
              "          3.9749e-01, 8.3695e-01, 9.2500e-01, 8.8283e-01, 3.2820e-01],\n",
              "         [7.1483e-01, 9.2489e-01, 1.4900e-03, 6.9198e-01, 1.8237e-01,\n",
              "          9.6265e-01, 3.7489e-02, 6.7046e-01, 6.9642e-01, 8.5107e-01],\n",
              "         [1.8895e-01, 9.4077e-01, 1.1894e-01, 8.0280e-02, 2.1376e-01,\n",
              "          7.0445e-01, 8.8799e-01, 8.6053e-01, 3.0156e-01, 1.8945e-01],\n",
              "         [5.2919e-01, 7.0867e-01, 7.4637e-01, 9.3536e-01, 6.5982e-01,\n",
              "          6.9288e-01, 5.6920e-01, 9.4004e-01, 6.8601e-01, 3.2505e-01],\n",
              "         [8.4372e-01, 1.5039e-01, 9.4859e-01, 9.2424e-01, 6.9014e-01,\n",
              "          9.4635e-01, 7.0052e-01, 4.3818e-01, 7.0464e-01, 4.2466e-01],\n",
              "         [2.8192e-01, 7.3969e-02, 8.8460e-02, 4.7631e-01, 4.2547e-01,\n",
              "          6.1699e-01, 3.6786e-01, 4.8121e-01, 1.5555e-01, 1.0448e-01],\n",
              "         [3.2560e-01, 9.1084e-01, 9.7496e-01, 2.1044e-01, 4.1922e-02,\n",
              "          8.6838e-04, 9.5287e-01, 3.1249e-02, 6.9577e-01, 7.6999e-01]]])"
            ]
          },
          "metadata": {},
          "execution_count": 25
        }
      ]
    },
    {
      "cell_type": "code",
      "source": [
        "random_tensor1.size()"
      ],
      "metadata": {
        "colab": {
          "base_uri": "https://localhost:8080/"
        },
        "id": "ubWK73KBHy6n",
        "outputId": "2b8de72a-3dfd-4693-bc46-244d0fbde0f1"
      },
      "execution_count": 26,
      "outputs": [
        {
          "output_type": "execute_result",
          "data": {
            "text/plain": [
              "torch.Size([10, 10, 10])"
            ]
          },
          "metadata": {},
          "execution_count": 26
        }
      ]
    },
    {
      "cell_type": "code",
      "source": [
        "random_tensor1.ndim"
      ],
      "metadata": {
        "colab": {
          "base_uri": "https://localhost:8080/"
        },
        "id": "mL1rhMgVH23m",
        "outputId": "e12ab1fb-079a-49ae-bec1-0f61c282b964"
      },
      "execution_count": 27,
      "outputs": [
        {
          "output_type": "execute_result",
          "data": {
            "text/plain": [
              "3"
            ]
          },
          "metadata": {},
          "execution_count": 27
        }
      ]
    },
    {
      "cell_type": "code",
      "source": [
        "# create a random tensor with similar shape to an image tensor\n",
        "\n",
        "random_image_size_tensor = torch.rand(size=(3, 224, 224)) # height, width, color channels\n",
        "random_image_size_tensor.shape, random_image_size_tensor.ndim"
      ],
      "metadata": {
        "colab": {
          "base_uri": "https://localhost:8080/"
        },
        "id": "BvOahuV8H-fq",
        "outputId": "d1b14160-24ed-4474-8de6-8f8fad4566c7"
      },
      "execution_count": 28,
      "outputs": [
        {
          "output_type": "execute_result",
          "data": {
            "text/plain": [
              "(torch.Size([3, 224, 224]), 3)"
            ]
          },
          "metadata": {},
          "execution_count": 28
        }
      ]
    },
    {
      "cell_type": "code",
      "source": [
        "# 2 ways to create tensors are\n",
        "way1= torch.rand(5,10)\n",
        "way1"
      ],
      "metadata": {
        "colab": {
          "base_uri": "https://localhost:8080/"
        },
        "id": "bTo9NK-dIlgJ",
        "outputId": "b5c9cb4c-3831-4791-db33-5cfc264e2edf"
      },
      "execution_count": 29,
      "outputs": [
        {
          "output_type": "execute_result",
          "data": {
            "text/plain": [
              "tensor([[0.4828, 0.0205, 0.5092, 0.5468, 0.3503, 0.9404, 0.5388, 0.7964, 0.1241,\n",
              "         0.6168],\n",
              "        [0.2632, 0.1180, 0.3329, 0.5433, 0.1626, 0.1329, 0.8979, 0.9222, 0.8999,\n",
              "         0.9173],\n",
              "        [0.6728, 0.6482, 0.7112, 0.2917, 0.6927, 0.0211, 0.8329, 0.2198, 0.8342,\n",
              "         0.4283],\n",
              "        [0.3166, 0.2960, 0.0380, 0.3249, 0.0908, 0.9040, 0.5684, 0.0142, 0.2960,\n",
              "         0.3574],\n",
              "        [0.9946, 0.6769, 0.2829, 0.0067, 0.2444, 0.0909, 0.8083, 0.1323, 0.6290,\n",
              "         0.3955]])"
            ]
          },
          "metadata": {},
          "execution_count": 29
        }
      ]
    },
    {
      "cell_type": "code",
      "source": [
        "way2= torch.rand(size=(5,10))\n",
        "way2"
      ],
      "metadata": {
        "colab": {
          "base_uri": "https://localhost:8080/"
        },
        "id": "yK86eOnnJ_nt",
        "outputId": "b2e5caba-a4d3-4f36-8cba-541a249353f1"
      },
      "execution_count": 30,
      "outputs": [
        {
          "output_type": "execute_result",
          "data": {
            "text/plain": [
              "tensor([[0.7502, 0.2531, 0.2224, 0.8587, 0.6657, 0.6294, 0.1819, 0.5206, 0.1174,\n",
              "         0.8721],\n",
              "        [0.4373, 0.3041, 0.4966, 0.0247, 0.6852, 0.9031, 0.3930, 0.7507, 0.3752,\n",
              "         0.8598],\n",
              "        [0.2249, 0.3938, 0.2033, 0.3732, 0.3564, 0.7642, 0.8934, 0.3359, 0.9480,\n",
              "         0.3413],\n",
              "        [0.7076, 0.6075, 0.3137, 0.0376, 0.5522, 0.3250, 0.1077, 0.6575, 0.3910,\n",
              "         0.2051],\n",
              "        [0.5989, 0.7081, 0.6320, 0.0583, 0.8307, 0.8841, 0.6964, 0.4563, 0.3744,\n",
              "         0.4799]])"
            ]
          },
          "metadata": {},
          "execution_count": 30
        }
      ]
    },
    {
      "cell_type": "markdown",
      "source": [
        "## Zeros and Ones"
      ],
      "metadata": {
        "id": "qu0qDLtBJ7ED"
      }
    },
    {
      "cell_type": "code",
      "source": [
        "# create a tensor of all zeros\n",
        "\n",
        "zeros= torch.zeros(size=(3,4))\n",
        "zeros\n"
      ],
      "metadata": {
        "id": "pSNpVUVTJbHd",
        "colab": {
          "base_uri": "https://localhost:8080/"
        },
        "outputId": "5f66b9ca-a658-4071-d36e-a2dc02b7c9c8"
      },
      "execution_count": 31,
      "outputs": [
        {
          "output_type": "execute_result",
          "data": {
            "text/plain": [
              "tensor([[0., 0., 0., 0.],\n",
              "        [0., 0., 0., 0.],\n",
              "        [0., 0., 0., 0.]])"
            ]
          },
          "metadata": {},
          "execution_count": 31
        }
      ]
    },
    {
      "cell_type": "code",
      "source": [
        "# create a tensor of all ones\n",
        "\n",
        "ones= torch.ones(size=(3,4))\n",
        "ones"
      ],
      "metadata": {
        "colab": {
          "base_uri": "https://localhost:8080/"
        },
        "id": "O5snl980h8vI",
        "outputId": "2460609e-b6e1-4712-eea0-eb98a568f7c8"
      },
      "execution_count": 32,
      "outputs": [
        {
          "output_type": "execute_result",
          "data": {
            "text/plain": [
              "tensor([[1., 1., 1., 1.],\n",
              "        [1., 1., 1., 1.],\n",
              "        [1., 1., 1., 1.]])"
            ]
          },
          "metadata": {},
          "execution_count": 32
        }
      ]
    },
    {
      "cell_type": "code",
      "source": [
        "ones.dtype"
      ],
      "metadata": {
        "colab": {
          "base_uri": "https://localhost:8080/"
        },
        "id": "clIcXcJNiqVI",
        "outputId": "27690af7-ff87-49af-9635-2e75864859b1"
      },
      "execution_count": 33,
      "outputs": [
        {
          "output_type": "execute_result",
          "data": {
            "text/plain": [
              "torch.float32"
            ]
          },
          "metadata": {},
          "execution_count": 33
        }
      ]
    },
    {
      "cell_type": "code",
      "source": [],
      "metadata": {
        "id": "5p6h1DP3isj9"
      },
      "execution_count": null,
      "outputs": []
    }
  ]
}